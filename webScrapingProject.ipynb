{
  "cells": [
    {
      "cell_type": "markdown",
      "metadata": {},
      "source": [
        "# Web Scraping Project"
      ]
    },
    {
      "cell_type": "markdown",
      "metadata": {},
      "source": [
        "**About**: This project is part of my course \"Tools in Data Science\" as part of B.Sc. in Programming and Data Science by IIT Madras.<br>\n",
        "**Aim**: To scrape data from the given website, analyse it and hence answer the questions posed.<br>\n",
        "**Website to scrape**: https://www.senate.gov/legislative/LIS/roll_call_votes/vote1171/vote_117_1_00114.htm"
      ]
    },
    {
      "cell_type": "code",
      "execution_count": 1,
      "metadata": {},
      "outputs": [],
      "source": [
        "from bs4 import BeautifulSoup as bs\n",
        "import requests #to access website\n",
        "import pandas as pd"
      ]
    },
    {
      "cell_type": "code",
      "execution_count": 2,
      "metadata": {},
      "outputs": [
        {
          "name": "stdout",
          "output_type": "stream",
          "text": [
            "<!DOCTYPE html PUBLIC \"-//W3C//DTD XHTML 1.0 Transitional//EN\" \"http://www.w3.org/TR/xhtml1/DTD/xhtm\n"
          ]
        }
      ],
      "source": [
        "r = requests.get(\"https://www.senate.gov/legislative/LIS/roll_call_votes/vote1171/vote_117_1_00114.htm\")\n",
        "\n",
        "# Convert to a beautiful soup object\n",
        "soup = bs(r.content)\n",
        "\n",
        "# Print out HTML\n",
        "contents = soup.prettify()\n",
        "print(contents[:100])"
      ]
    },
    {
      "cell_type": "code",
      "execution_count": 3,
      "metadata": {},
      "outputs": [],
      "source": [
        "final_data = []\n",
        "full_list = []"
      ]
    },
    {
      "cell_type": "code",
      "execution_count": 4,
      "metadata": {},
      "outputs": [
        {
          "data": {
            "text/plain": [
              "[['', ''],\n",
              " ['Baldwin (D-WI), Yea',\n",
              "  'Barrasso (R-WY), Nay',\n",
              "  'Bennet (D-CO), Yea',\n",
              "  'Blackburn (R-TN), Nay',\n",
              "  'Blumenthal (D-CT), Yea',\n",
              "  'Blunt (R-MO), Yea',\n",
              "  'Booker (D-NJ), Yea',\n",
              "  'Boozman (R-AR), Nay',\n",
              "  'Braun (R-IN), Nay',\n",
              "  'Brown (D-OH), Yea',\n",
              "  'Burr (R-NC), Yea',\n",
              "  'Cantwell (D-WA), Yea',\n",
              "  'Capito (R-WV), Yea',\n",
              "  'Cardin (D-MD), Yea',\n",
              "  'Carper (D-DE), Yea',\n",
              "  'Casey (D-PA), Yea',\n",
              "  'Cassidy (R-LA), Yea',\n",
              "  'Collins (R-ME), Yea',\n",
              "  'Coons (D-DE), Yea',\n",
              "  'Cornyn (R-TX), Yea',\n",
              "  'Cortez Masto (D-NV), Yea',\n",
              "  'Cotton (R-AR), Nay',\n",
              "  'Cramer (R-ND), Nay',\n",
              "  'Crapo (R-ID), Nay',\n",
              "  'Cruz (R-TX), Nay',\n",
              "  'Daines (R-MT), Nay',\n",
              "  'Duckworth (D-IL), Yea',\n",
              "  'Durbin (D-IL), Yea',\n",
              "  'Ernst (R-IA), Yea',\n",
              "  'Feinstein (D-CA), Yea',\n",
              "  'Fischer (R-NE), Nay',\n",
              "  'Gillibrand (D-NY), Yea',\n",
              "  'Graham (R-SC), Yea',\n",
              "  'Grassley (R-IA), Yea',\n",
              "  'Hagerty (R-TN), Nay',\n",
              "  'Hassan (D-NH), Yea',\n",
              "  'Hawley (R-MO), Nay',\n",
              "  'Heinrich (D-NM), Yea',\n",
              "  'Hickenlooper (D-CO), Yea',\n",
              "  'Hirono (D-HI), Yea',\n",
              "  'Hoeven (R-ND), Nay',\n",
              "  'Hyde-Smith (R-MS), Nay',\n",
              "  'Inhofe (R-OK), Yea',\n",
              "  'Johnson (R-WI), Yea',\n",
              "  'Kaine (D-VA), Yea',\n",
              "  'Kelly (D-AZ), Yea',\n",
              "  'Kennedy (R-LA), Nay',\n",
              "  'King (I-ME), Yea',\n",
              "  'Klobuchar (D-MN), Yea',\n",
              "  'Lankford (R-OK), Yea',\n",
              "  'Leahy (D-VT), Yea',\n",
              "  'Lee (R-UT), Nay',\n",
              "  'Lujan (D-NM), Yea',\n",
              "  'Lummis (R-WY), Nay',\n",
              "  'Manchin (D-WV), Yea',\n",
              "  'Markey (D-MA), Yea',\n",
              "  'Marshall (R-KS), Nay',\n",
              "  'McConnell (R-KY), Yea',\n",
              "  'Menendez (D-NJ), Yea',\n",
              "  'Merkley (D-OR), Yea',\n",
              "  'Moran (R-KS), Yea',\n",
              "  'Murkowski (R-AK), Yea',\n",
              "  'Murphy (D-CT), Yea',\n",
              "  'Murray (D-WA), Yea',\n",
              "  'Ossoff (D-GA), Yea',\n",
              "  'Padilla (D-CA), Yea',\n",
              "  'Paul (R-KY), Nay',\n",
              "  'Peters (D-MI), Yea',\n",
              "  'Portman (R-OH), Yea',\n",
              "  'Reed (D-RI), Yea',\n",
              "  'Risch (R-ID), Nay',\n",
              "  'Romney (R-UT), Yea',\n",
              "  'Rosen (D-NV), Yea',\n",
              "  'Rounds (R-SD), Yea',\n",
              "  'Rubio (R-FL), Nay',\n",
              "  'Sanders (I-VT), Yea',\n",
              "  'Sasse (R-NE), Nay',\n",
              "  'Schatz (D-HI), Yea',\n",
              "  'Schumer (D-NY), Yea',\n",
              "  'Scott (R-FL), Nay',\n",
              "  'Scott (R-SC), Nay',\n",
              "  'Shaheen (D-NH), Yea',\n",
              "  'Shelby (R-AL), Nay',\n",
              "  'Sinema (D-AZ), Yea',\n",
              "  'Smith (D-MN), Yea',\n",
              "  'Stabenow (D-MI), Yea',\n",
              "  'Sullivan (R-AK), Nay',\n",
              "  'Tester (D-MT), Yea',\n",
              "  'Thune (R-SD), Yea',\n",
              "  'Tillis (R-NC), Yea',\n",
              "  'Toomey (R-PA), Nay',\n",
              "  'Tuberville (R-AL), Nay',\n",
              "  'Van Hollen (D-MD), Yea',\n",
              "  'Warner (D-VA), Yea',\n",
              "  'Warnock (D-GA), Yea',\n",
              "  'Warren (D-MA), Yea',\n",
              "  'Whitehouse (D-RI), Yea',\n",
              "  'Wicker (R-MS), Nay',\n",
              "  'Wyden (D-OR), Yea',\n",
              "  'Young (R-IN), Nay',\n",
              "  '',\n",
              "  ''],\n",
              " ['', '']]"
            ]
          },
          "execution_count": 4,
          "metadata": {},
          "output_type": "execute_result"
        }
      ],
      "source": [
        "vote_table = soup.find(class_=\"newspaperDisplay_3column\")\n",
        "for row in vote_table:\n",
        "    full_list.append(row.text.split(\"\\n\"))\n",
        "full_list"
      ]
    },
    {
      "cell_type": "code",
      "execution_count": 5,
      "metadata": {},
      "outputs": [
        {
          "data": {
            "text/plain": [
              "[['Baldwin', '(D-WI),', 'Yea'],\n",
              " ['Barrasso', '(R-WY),', 'Nay'],\n",
              " ['Bennet', '(D-CO),', 'Yea'],\n",
              " ['Blackburn', '(R-TN),', 'Nay'],\n",
              " ['Blumenthal', '(D-CT),', 'Yea'],\n",
              " ['Blunt', '(R-MO),', 'Yea'],\n",
              " ['Booker', '(D-NJ),', 'Yea'],\n",
              " ['Boozman', '(R-AR),', 'Nay'],\n",
              " ['Braun', '(R-IN),', 'Nay'],\n",
              " ['Brown', '(D-OH),', 'Yea'],\n",
              " ['Burr', '(R-NC),', 'Yea'],\n",
              " ['Cantwell', '(D-WA),', 'Yea'],\n",
              " ['Capito', '(R-WV),', 'Yea'],\n",
              " ['Cardin', '(D-MD),', 'Yea'],\n",
              " ['Carper', '(D-DE),', 'Yea'],\n",
              " ['Casey', '(D-PA),', 'Yea'],\n",
              " ['Cassidy', '(R-LA),', 'Yea'],\n",
              " ['Collins', '(R-ME),', 'Yea'],\n",
              " ['Coons', '(D-DE),', 'Yea'],\n",
              " ['Cornyn', '(R-TX),', 'Yea'],\n",
              " ['Cortez', 'Masto', '(D-NV),', 'Yea'],\n",
              " ['Cotton', '(R-AR),', 'Nay'],\n",
              " ['Cramer', '(R-ND),', 'Nay'],\n",
              " ['Crapo', '(R-ID),', 'Nay'],\n",
              " ['Cruz', '(R-TX),', 'Nay'],\n",
              " ['Daines', '(R-MT),', 'Nay'],\n",
              " ['Duckworth', '(D-IL),', 'Yea'],\n",
              " ['Durbin', '(D-IL),', 'Yea'],\n",
              " ['Ernst', '(R-IA),', 'Yea'],\n",
              " ['Feinstein', '(D-CA),', 'Yea'],\n",
              " ['Fischer', '(R-NE),', 'Nay'],\n",
              " ['Gillibrand', '(D-NY),', 'Yea'],\n",
              " ['Graham', '(R-SC),', 'Yea'],\n",
              " ['Grassley', '(R-IA),', 'Yea'],\n",
              " ['Hagerty', '(R-TN),', 'Nay'],\n",
              " ['Hassan', '(D-NH),', 'Yea'],\n",
              " ['Hawley', '(R-MO),', 'Nay'],\n",
              " ['Heinrich', '(D-NM),', 'Yea'],\n",
              " ['Hickenlooper', '(D-CO),', 'Yea'],\n",
              " ['Hirono', '(D-HI),', 'Yea'],\n",
              " ['Hoeven', '(R-ND),', 'Nay'],\n",
              " ['Hyde-Smith', '(R-MS),', 'Nay'],\n",
              " ['Inhofe', '(R-OK),', 'Yea'],\n",
              " ['Johnson', '(R-WI),', 'Yea'],\n",
              " ['Kaine', '(D-VA),', 'Yea'],\n",
              " ['Kelly', '(D-AZ),', 'Yea'],\n",
              " ['Kennedy', '(R-LA),', 'Nay'],\n",
              " ['King', '(I-ME),', 'Yea'],\n",
              " ['Klobuchar', '(D-MN),', 'Yea'],\n",
              " ['Lankford', '(R-OK),', 'Yea'],\n",
              " ['Leahy', '(D-VT),', 'Yea'],\n",
              " ['Lee', '(R-UT),', 'Nay'],\n",
              " ['Lujan', '(D-NM),', 'Yea'],\n",
              " ['Lummis', '(R-WY),', 'Nay'],\n",
              " ['Manchin', '(D-WV),', 'Yea'],\n",
              " ['Markey', '(D-MA),', 'Yea'],\n",
              " ['Marshall', '(R-KS),', 'Nay'],\n",
              " ['McConnell', '(R-KY),', 'Yea'],\n",
              " ['Menendez', '(D-NJ),', 'Yea'],\n",
              " ['Merkley', '(D-OR),', 'Yea'],\n",
              " ['Moran', '(R-KS),', 'Yea'],\n",
              " ['Murkowski', '(R-AK),', 'Yea'],\n",
              " ['Murphy', '(D-CT),', 'Yea'],\n",
              " ['Murray', '(D-WA),', 'Yea'],\n",
              " ['Ossoff', '(D-GA),', 'Yea'],\n",
              " ['Padilla', '(D-CA),', 'Yea'],\n",
              " ['Paul', '(R-KY),', 'Nay'],\n",
              " ['Peters', '(D-MI),', 'Yea'],\n",
              " ['Portman', '(R-OH),', 'Yea'],\n",
              " ['Reed', '(D-RI),', 'Yea'],\n",
              " ['Risch', '(R-ID),', 'Nay'],\n",
              " ['Romney', '(R-UT),', 'Yea'],\n",
              " ['Rosen', '(D-NV),', 'Yea'],\n",
              " ['Rounds', '(R-SD),', 'Yea'],\n",
              " ['Rubio', '(R-FL),', 'Nay'],\n",
              " ['Sanders', '(I-VT),', 'Yea'],\n",
              " ['Sasse', '(R-NE),', 'Nay'],\n",
              " ['Schatz', '(D-HI),', 'Yea'],\n",
              " ['Schumer', '(D-NY),', 'Yea'],\n",
              " ['Scott', '(R-FL),', 'Nay'],\n",
              " ['Scott', '(R-SC),', 'Nay'],\n",
              " ['Shaheen', '(D-NH),', 'Yea'],\n",
              " ['Shelby', '(R-AL),', 'Nay'],\n",
              " ['Sinema', '(D-AZ),', 'Yea'],\n",
              " ['Smith', '(D-MN),', 'Yea'],\n",
              " ['Stabenow', '(D-MI),', 'Yea'],\n",
              " ['Sullivan', '(R-AK),', 'Nay'],\n",
              " ['Tester', '(D-MT),', 'Yea'],\n",
              " ['Thune', '(R-SD),', 'Yea'],\n",
              " ['Tillis', '(R-NC),', 'Yea'],\n",
              " ['Toomey', '(R-PA),', 'Nay'],\n",
              " ['Tuberville', '(R-AL),', 'Nay'],\n",
              " ['Van', 'Hollen', '(D-MD),', 'Yea'],\n",
              " ['Warner', '(D-VA),', 'Yea'],\n",
              " ['Warnock', '(D-GA),', 'Yea'],\n",
              " ['Warren', '(D-MA),', 'Yea'],\n",
              " ['Whitehouse', '(D-RI),', 'Yea'],\n",
              " ['Wicker', '(R-MS),', 'Nay'],\n",
              " ['Wyden', '(D-OR),', 'Yea'],\n",
              " ['Young', '(R-IN),', 'Nay'],\n",
              " [''],\n",
              " ['']]"
            ]
          },
          "execution_count": 5,
          "metadata": {},
          "output_type": "execute_result"
        }
      ],
      "source": [
        "for item in full_list[1]:\n",
        "    final_data.append(item.split(\" \"))\n",
        "final_data"
      ]
    },
    {
      "cell_type": "code",
      "execution_count": 6,
      "metadata": {},
      "outputs": [
        {
          "data": {
            "text/plain": [
              "[['Baldwin', '(D-WI),', 'Yea'],\n",
              " ['Barrasso', '(R-WY),', 'Nay'],\n",
              " ['Bennet', '(D-CO),', 'Yea'],\n",
              " ['Blackburn', '(R-TN),', 'Nay'],\n",
              " ['Blumenthal', '(D-CT),', 'Yea'],\n",
              " ['Blunt', '(R-MO),', 'Yea'],\n",
              " ['Booker', '(D-NJ),', 'Yea'],\n",
              " ['Boozman', '(R-AR),', 'Nay'],\n",
              " ['Braun', '(R-IN),', 'Nay'],\n",
              " ['Brown', '(D-OH),', 'Yea'],\n",
              " ['Burr', '(R-NC),', 'Yea'],\n",
              " ['Cantwell', '(D-WA),', 'Yea'],\n",
              " ['Capito', '(R-WV),', 'Yea'],\n",
              " ['Cardin', '(D-MD),', 'Yea'],\n",
              " ['Carper', '(D-DE),', 'Yea'],\n",
              " ['Casey', '(D-PA),', 'Yea'],\n",
              " ['Cassidy', '(R-LA),', 'Yea'],\n",
              " ['Collins', '(R-ME),', 'Yea'],\n",
              " ['Coons', '(D-DE),', 'Yea'],\n",
              " ['Cornyn', '(R-TX),', 'Yea'],\n",
              " ['Cortez Masto', '(D-NV),', 'Yea'],\n",
              " ['Cotton', '(R-AR),', 'Nay'],\n",
              " ['Cramer', '(R-ND),', 'Nay'],\n",
              " ['Crapo', '(R-ID),', 'Nay'],\n",
              " ['Cruz', '(R-TX),', 'Nay'],\n",
              " ['Daines', '(R-MT),', 'Nay'],\n",
              " ['Duckworth', '(D-IL),', 'Yea'],\n",
              " ['Durbin', '(D-IL),', 'Yea'],\n",
              " ['Ernst', '(R-IA),', 'Yea'],\n",
              " ['Feinstein', '(D-CA),', 'Yea'],\n",
              " ['Fischer', '(R-NE),', 'Nay'],\n",
              " ['Gillibrand', '(D-NY),', 'Yea'],\n",
              " ['Graham', '(R-SC),', 'Yea'],\n",
              " ['Grassley', '(R-IA),', 'Yea'],\n",
              " ['Hagerty', '(R-TN),', 'Nay'],\n",
              " ['Hassan', '(D-NH),', 'Yea'],\n",
              " ['Hawley', '(R-MO),', 'Nay'],\n",
              " ['Heinrich', '(D-NM),', 'Yea'],\n",
              " ['Hickenlooper', '(D-CO),', 'Yea'],\n",
              " ['Hirono', '(D-HI),', 'Yea'],\n",
              " ['Hoeven', '(R-ND),', 'Nay'],\n",
              " ['Hyde-Smith', '(R-MS),', 'Nay'],\n",
              " ['Inhofe', '(R-OK),', 'Yea'],\n",
              " ['Johnson', '(R-WI),', 'Yea'],\n",
              " ['Kaine', '(D-VA),', 'Yea'],\n",
              " ['Kelly', '(D-AZ),', 'Yea'],\n",
              " ['Kennedy', '(R-LA),', 'Nay'],\n",
              " ['King', '(I-ME),', 'Yea'],\n",
              " ['Klobuchar', '(D-MN),', 'Yea'],\n",
              " ['Lankford', '(R-OK),', 'Yea'],\n",
              " ['Leahy', '(D-VT),', 'Yea'],\n",
              " ['Lee', '(R-UT),', 'Nay'],\n",
              " ['Lujan', '(D-NM),', 'Yea'],\n",
              " ['Lummis', '(R-WY),', 'Nay'],\n",
              " ['Manchin', '(D-WV),', 'Yea'],\n",
              " ['Markey', '(D-MA),', 'Yea'],\n",
              " ['Marshall', '(R-KS),', 'Nay'],\n",
              " ['McConnell', '(R-KY),', 'Yea'],\n",
              " ['Menendez', '(D-NJ),', 'Yea'],\n",
              " ['Merkley', '(D-OR),', 'Yea'],\n",
              " ['Moran', '(R-KS),', 'Yea'],\n",
              " ['Murkowski', '(R-AK),', 'Yea'],\n",
              " ['Murphy', '(D-CT),', 'Yea'],\n",
              " ['Murray', '(D-WA),', 'Yea'],\n",
              " ['Ossoff', '(D-GA),', 'Yea'],\n",
              " ['Padilla', '(D-CA),', 'Yea'],\n",
              " ['Paul', '(R-KY),', 'Nay'],\n",
              " ['Peters', '(D-MI),', 'Yea'],\n",
              " ['Portman', '(R-OH),', 'Yea'],\n",
              " ['Reed', '(D-RI),', 'Yea'],\n",
              " ['Risch', '(R-ID),', 'Nay'],\n",
              " ['Romney', '(R-UT),', 'Yea'],\n",
              " ['Rosen', '(D-NV),', 'Yea'],\n",
              " ['Rounds', '(R-SD),', 'Yea'],\n",
              " ['Rubio', '(R-FL),', 'Nay'],\n",
              " ['Sanders', '(I-VT),', 'Yea'],\n",
              " ['Sasse', '(R-NE),', 'Nay'],\n",
              " ['Schatz', '(D-HI),', 'Yea'],\n",
              " ['Schumer', '(D-NY),', 'Yea'],\n",
              " ['Scott', '(R-FL),', 'Nay'],\n",
              " ['Scott', '(R-SC),', 'Nay'],\n",
              " ['Shaheen', '(D-NH),', 'Yea'],\n",
              " ['Shelby', '(R-AL),', 'Nay'],\n",
              " ['Sinema', '(D-AZ),', 'Yea'],\n",
              " ['Smith', '(D-MN),', 'Yea'],\n",
              " ['Stabenow', '(D-MI),', 'Yea'],\n",
              " ['Sullivan', '(R-AK),', 'Nay'],\n",
              " ['Tester', '(D-MT),', 'Yea'],\n",
              " ['Thune', '(R-SD),', 'Yea'],\n",
              " ['Tillis', '(R-NC),', 'Yea'],\n",
              " ['Toomey', '(R-PA),', 'Nay'],\n",
              " ['Tuberville', '(R-AL),', 'Nay'],\n",
              " ['Van Hollen', '(D-MD),', 'Yea'],\n",
              " ['Warner', '(D-VA),', 'Yea'],\n",
              " ['Warnock', '(D-GA),', 'Yea'],\n",
              " ['Warren', '(D-MA),', 'Yea'],\n",
              " ['Whitehouse', '(D-RI),', 'Yea'],\n",
              " ['Wicker', '(R-MS),', 'Nay'],\n",
              " ['Wyden', '(D-OR),', 'Yea'],\n",
              " ['Young', '(R-IN),', 'Nay'],\n",
              " [''],\n",
              " ['']]"
            ]
          },
          "execution_count": 6,
          "metadata": {},
          "output_type": "execute_result"
        }
      ],
      "source": [
        "#Fixing cases with 2 words in the name\n",
        "for i in range(len(final_data)):\n",
        "    if len(final_data[i]) == 4:\n",
        "        temp=final_data[i][0]+\" \"+final_data[i][1]\n",
        "        new_row = []\n",
        "        new_row.append(temp)\n",
        "        new_row.append(final_data[i][2])\n",
        "        new_row.append(final_data[i][3])\n",
        "        final_data[i] = new_row.copy()\n",
        "final_data"
      ]
    },
    {
      "cell_type": "code",
      "execution_count": 7,
      "metadata": {},
      "outputs": [],
      "source": [
        "#Removing the empty values at the end\n",
        "del final_data[-2:]"
      ]
    },
    {
      "cell_type": "code",
      "execution_count": 8,
      "metadata": {},
      "outputs": [
        {
          "data": {
            "text/plain": [
              "[['Baldwin', 'D', 'WI', 'Yea'],\n",
              " ['Barrasso', 'R', 'WY', 'Nay'],\n",
              " ['Bennet', 'D', 'CO', 'Yea'],\n",
              " ['Blackburn', 'R', 'TN', 'Nay'],\n",
              " ['Blumenthal', 'D', 'CT', 'Yea'],\n",
              " ['Blunt', 'R', 'MO', 'Yea'],\n",
              " ['Booker', 'D', 'NJ', 'Yea'],\n",
              " ['Boozman', 'R', 'AR', 'Nay'],\n",
              " ['Braun', 'R', 'IN', 'Nay'],\n",
              " ['Brown', 'D', 'OH', 'Yea'],\n",
              " ['Burr', 'R', 'NC', 'Yea'],\n",
              " ['Cantwell', 'D', 'WA', 'Yea'],\n",
              " ['Capito', 'R', 'WV', 'Yea'],\n",
              " ['Cardin', 'D', 'MD', 'Yea'],\n",
              " ['Carper', 'D', 'DE', 'Yea'],\n",
              " ['Casey', 'D', 'PA', 'Yea'],\n",
              " ['Cassidy', 'R', 'LA', 'Yea'],\n",
              " ['Collins', 'R', 'ME', 'Yea'],\n",
              " ['Coons', 'D', 'DE', 'Yea'],\n",
              " ['Cornyn', 'R', 'TX', 'Yea'],\n",
              " ['Cortez Masto', 'D', 'NV', 'Yea'],\n",
              " ['Cotton', 'R', 'AR', 'Nay'],\n",
              " ['Cramer', 'R', 'ND', 'Nay'],\n",
              " ['Crapo', 'R', 'ID', 'Nay'],\n",
              " ['Cruz', 'R', 'TX', 'Nay'],\n",
              " ['Daines', 'R', 'MT', 'Nay'],\n",
              " ['Duckworth', 'D', 'IL', 'Yea'],\n",
              " ['Durbin', 'D', 'IL', 'Yea'],\n",
              " ['Ernst', 'R', 'IA', 'Yea'],\n",
              " ['Feinstein', 'D', 'CA', 'Yea'],\n",
              " ['Fischer', 'R', 'NE', 'Nay'],\n",
              " ['Gillibrand', 'D', 'NY', 'Yea'],\n",
              " ['Graham', 'R', 'SC', 'Yea'],\n",
              " ['Grassley', 'R', 'IA', 'Yea'],\n",
              " ['Hagerty', 'R', 'TN', 'Nay'],\n",
              " ['Hassan', 'D', 'NH', 'Yea'],\n",
              " ['Hawley', 'R', 'MO', 'Nay'],\n",
              " ['Heinrich', 'D', 'NM', 'Yea'],\n",
              " ['Hickenlooper', 'D', 'CO', 'Yea'],\n",
              " ['Hirono', 'D', 'HI', 'Yea'],\n",
              " ['Hoeven', 'R', 'ND', 'Nay'],\n",
              " ['Hyde-Smith', 'R', 'MS', 'Nay'],\n",
              " ['Inhofe', 'R', 'OK', 'Yea'],\n",
              " ['Johnson', 'R', 'WI', 'Yea'],\n",
              " ['Kaine', 'D', 'VA', 'Yea'],\n",
              " ['Kelly', 'D', 'AZ', 'Yea'],\n",
              " ['Kennedy', 'R', 'LA', 'Nay'],\n",
              " ['King', 'I', 'ME', 'Yea'],\n",
              " ['Klobuchar', 'D', 'MN', 'Yea'],\n",
              " ['Lankford', 'R', 'OK', 'Yea'],\n",
              " ['Leahy', 'D', 'VT', 'Yea'],\n",
              " ['Lee', 'R', 'UT', 'Nay'],\n",
              " ['Lujan', 'D', 'NM', 'Yea'],\n",
              " ['Lummis', 'R', 'WY', 'Nay'],\n",
              " ['Manchin', 'D', 'WV', 'Yea'],\n",
              " ['Markey', 'D', 'MA', 'Yea'],\n",
              " ['Marshall', 'R', 'KS', 'Nay'],\n",
              " ['McConnell', 'R', 'KY', 'Yea'],\n",
              " ['Menendez', 'D', 'NJ', 'Yea'],\n",
              " ['Merkley', 'D', 'OR', 'Yea'],\n",
              " ['Moran', 'R', 'KS', 'Yea'],\n",
              " ['Murkowski', 'R', 'AK', 'Yea'],\n",
              " ['Murphy', 'D', 'CT', 'Yea'],\n",
              " ['Murray', 'D', 'WA', 'Yea'],\n",
              " ['Ossoff', 'D', 'GA', 'Yea'],\n",
              " ['Padilla', 'D', 'CA', 'Yea'],\n",
              " ['Paul', 'R', 'KY', 'Nay'],\n",
              " ['Peters', 'D', 'MI', 'Yea'],\n",
              " ['Portman', 'R', 'OH', 'Yea'],\n",
              " ['Reed', 'D', 'RI', 'Yea'],\n",
              " ['Risch', 'R', 'ID', 'Nay'],\n",
              " ['Romney', 'R', 'UT', 'Yea'],\n",
              " ['Rosen', 'D', 'NV', 'Yea'],\n",
              " ['Rounds', 'R', 'SD', 'Yea'],\n",
              " ['Rubio', 'R', 'FL', 'Nay'],\n",
              " ['Sanders', 'I', 'VT', 'Yea'],\n",
              " ['Sasse', 'R', 'NE', 'Nay'],\n",
              " ['Schatz', 'D', 'HI', 'Yea'],\n",
              " ['Schumer', 'D', 'NY', 'Yea'],\n",
              " ['Scott', 'R', 'FL', 'Nay'],\n",
              " ['Scott', 'R', 'SC', 'Nay'],\n",
              " ['Shaheen', 'D', 'NH', 'Yea'],\n",
              " ['Shelby', 'R', 'AL', 'Nay'],\n",
              " ['Sinema', 'D', 'AZ', 'Yea'],\n",
              " ['Smith', 'D', 'MN', 'Yea'],\n",
              " ['Stabenow', 'D', 'MI', 'Yea'],\n",
              " ['Sullivan', 'R', 'AK', 'Nay'],\n",
              " ['Tester', 'D', 'MT', 'Yea'],\n",
              " ['Thune', 'R', 'SD', 'Yea'],\n",
              " ['Tillis', 'R', 'NC', 'Yea'],\n",
              " ['Toomey', 'R', 'PA', 'Nay'],\n",
              " ['Tuberville', 'R', 'AL', 'Nay'],\n",
              " ['Van Hollen', 'D', 'MD', 'Yea'],\n",
              " ['Warner', 'D', 'VA', 'Yea'],\n",
              " ['Warnock', 'D', 'GA', 'Yea'],\n",
              " ['Warren', 'D', 'MA', 'Yea'],\n",
              " ['Whitehouse', 'D', 'RI', 'Yea'],\n",
              " ['Wicker', 'R', 'MS', 'Nay'],\n",
              " ['Wyden', 'D', 'OR', 'Yea'],\n",
              " ['Young', 'R', 'IN', 'Nay']]"
            ]
          },
          "execution_count": 8,
          "metadata": {},
          "output_type": "execute_result"
        }
      ],
      "source": [
        "#Extracting party from the second column\n",
        "for i in range(len(final_data)):\n",
        "    temp1=final_data[i][1][1]\n",
        "    temp2=final_data[i][1][3]+final_data[i][1][4]\n",
        "    new_row = []\n",
        "    new_row.append(final_data[i][0])\n",
        "    new_row.append(temp1)\n",
        "    new_row.append(temp2)\n",
        "    new_row.append(final_data[i][2])\n",
        "    final_data[i] = new_row.copy()\n",
        "final_data"
      ]
    },
    {
      "cell_type": "code",
      "execution_count": 9,
      "metadata": {},
      "outputs": [
        {
          "name": "stdout",
          "output_type": "stream",
          "text": [
            "          Name Party State Vote\n",
            "\n",
            "0      Baldwin     D    WI  Yea\n",
            "\n",
            "1     Barrasso     R    WY  Nay\n",
            "\n",
            "2       Bennet     D    CO  Yea\n",
            "\n",
            "3    Blackburn     R    TN  Nay\n",
            "\n",
            "4   Blumenthal     D    CT  Yea\n",
            "\n",
            "..         ...   ...   ...  ...\n",
            "\n",
            "95      Warren     D    MA  Yea\n",
            "\n",
            "96  Whitehouse     D    RI  Yea\n",
            "\n",
            "97      Wicker     R    MS  Nay\n",
            "\n",
            "98       Wyden     D    OR  Yea\n",
            "\n",
            "99       Young     R    IN  Nay\n",
            "\n",
            "\n",
            "\n",
            "[100 rows x 4 columns]\n"
          ]
        }
      ],
      "source": [
        "df = pd.DataFrame(final_data,columns = [\"Name\",\"Party\",\"State\",\"Vote\"])\n",
        "print(df)"
      ]
    },
    {
      "cell_type": "code",
      "execution_count": 10,
      "metadata": {},
      "outputs": [],
      "source": [
        "#Converting to a csv for further analysis, run the below line\n",
        "#df.to_csv(\"voting_data.csv\")"
      ]
    },
    {
      "cell_type": "markdown",
      "metadata": {},
      "source": [
        "# Questions:"
      ]
    },
    {
      "cell_type": "markdown",
      "metadata": {},
      "source": [
        "**Q1**: How many democrats didn't vote? <br>\n",
        "Ans: 0"
      ]
    },
    {
      "cell_type": "markdown",
      "metadata": {},
      "source": [
        "**Q2**: How many republicans voted \"Yea\"?<br>\n",
        "Ans: 20"
      ]
    },
    {
      "cell_type": "markdown",
      "metadata": {},
      "source": [
        "**Q3**: What's the total number of Yea votes from all senators whose name starts with \"B\"?<br>\n",
        "Ans: 7"
      ]
    },
    {
      "cell_type": "markdown",
      "metadata": {},
      "source": [
        "**Q4**: How many states voted all \"Yea\"?<br>\n",
        "Ans: 30"
      ]
    },
    {
      "cell_type": "markdown",
      "metadata": {},
      "source": [
        "**Q5**: How many states had atleast one non-voting senator? <br>\n",
        "Ans: 0"
      ]
    },
    {
      "cell_type": "markdown",
      "metadata": {},
      "source": [
        "**Q6**: How many states have both Republican senators?<br>\n",
        "Ans: 22"
      ]
    },
    {
      "cell_type": "markdown",
      "metadata": {},
      "source": [
        "**Q7**: How many states have both Republlican and Democratic senators?<br>\n",
        "Ans: 5"
      ]
    },
    {
      "cell_type": "markdown",
      "metadata": {},
      "source": [
        "**Q8**: How many senators have their names starting with \"W\"?<br>\n",
        "Ans: 6"
      ]
    },
    {
      "cell_type": "markdown",
      "metadata": {},
      "source": [
        "**Q9**: What is the votes ratio of Democrats' major decision to Republicans' major decision ?<br>\n",
        "Ans: 0.97"
      ]
    },
    {
      "cell_type": "markdown",
      "metadata": {},
      "source": [
        "**Q10**: What is the highest absolute difference in percentage between yea and nay senators among the different parties?<br>\n",
        "Ans: 100"
      ]
    },
    {
      "cell_type": "markdown",
      "metadata": {},
      "source": [
        "**Q11**: How many Democrats voted \"Yea\"?<br>\n",
        "Ans: 48"
      ]
    },
    {
      "cell_type": "markdown",
      "metadata": {},
      "source": [
        "**Q12**: How many states voted all \"Nay\"?<br>\n",
        "Ans: 10"
      ]
    },
    {
      "cell_type": "markdown",
      "metadata": {},
      "source": [
        "**Q13**: How many states have both Democrat senators?<br>\n",
        "Ans: 21"
      ]
    },
    {
      "cell_type": "markdown",
      "metadata": {},
      "source": [
        "**Q14**: How many senators did not vote?<br>\n",
        "Ans: 0"
      ]
    },
    {
      "cell_type": "markdown",
      "metadata": {},
      "source": [
        "**Q15**: How many states had atleast 1 senator not voted?<br>\n",
        "Ans: 0"
      ]
    },
    {
      "cell_type": "markdown",
      "metadata": {},
      "source": [
        "**Q16**: What is the ratio of number of rows to the number of columns in your dataset?<br>\n",
        "Ans: 25"
      ]
    },
    {
      "cell_type": "markdown",
      "metadata": {},
      "source": [
        "# Graph Analysis"
      ]
    },
    {
      "cell_type": "markdown",
      "metadata": {},
      "source": [
        "**Graph 1**: Stacked Bar for *Parties* versus *Number of Votes*"
      ]
    },
    {
      "attachments": {
        "83d4ac2a-a064-4a4e-bf5c-6c598e9d99d1.png": {
          "image/png": "[encoded data removed]"
        }
      },
      "cell_type": "markdown",
      "metadata": {},
      "source": [
        "![party_vs_votes.png](attachment:83d4ac2a-a064-4a4e-bf5c-6c598e9d99d1.png)"
      ]
    },
    {
      "cell_type": "markdown",
      "metadata": {},
      "source": [
        "**Graph 2**: Pie Chart of *Republican Votes*"
      ]
    },
    {
      "attachments": {
        "c86a0421-b6c2-4a81-9750-68f1d9f3b48f.png": {
          "image/png": "[encoded data removed]"
        }
      },
      "cell_type": "markdown",
      "metadata": {},
      "source": [
        "![republican_pie.png](attachment:c86a0421-b6c2-4a81-9750-68f1d9f3b48f.png)"
      ]
    },
    {
      "cell_type": "markdown",
      "metadata": {},
      "source": [
        "**Graph 3**: Heat Tab for *Parties* versus *Yea/Nay*"
      ]
    },
    {
      "attachments": {
        "40506d1d-f8fa-4cf5-a796-91ca703dca5c.png": {
          "image/png": "[encoded data removed]"
        }
      },
      "cell_type": "markdown",
      "metadata": {},
      "source": [
        "![heat_map.png](attachment:40506d1d-f8fa-4cf5-a796-91ca703dca5c.png)"
      ]
    },
    {
      "cell_type": "markdown",
      "metadata": {},
      "source": [
        "**Graph 4**: Pie chart of *Majority across States*"
      ]
    },
    {
      "attachments": {
        "7454ddd2-0f85-4ef7-a28f-efea859df5ea.png": {
          "image/png": "[encoded data removed]"
        }
      },
      "cell_type": "markdown",
      "metadata": {},
      "source": [
        "![party_majority.png](attachment:7454ddd2-0f85-4ef7-a28f-efea859df5ea.png)"
      ]
    }
  ],
  "metadata": {
    "kernelspec": {
      "display_name": "Python (Pyodide)",
      "language": "python",
      "name": "python"
    },
    "language_info": {
      "codemirror_mode": {
        "name": "python",
        "version": 3
      },
      "file_extension": ".py",
      "mimetype": "text/x-python",
      "name": "python",
      "nbconvert_exporter": "python",
      "pygments_lexer": "ipython3",
      "version": "3.8"
    },
    "vscode": {
      "interpreter": {
        "hash": "a37e343d75c0477f8d37072e051589339fcfaa9debe80ddcc17c2f265dc323a2"
      }
    }
  },
  "nbformat": 4,
  "nbformat_minor": 4
}
